{
 "cells": [
  {
   "cell_type": "code",
   "execution_count": 1,
   "id": "53bbcdbc",
   "metadata": {},
   "outputs": [],
   "source": [
    "import pandas as pd\n",
    "import numpy as np"
   ]
  },
  {
   "cell_type": "code",
   "execution_count": null,
   "id": "6138318c",
   "metadata": {},
   "outputs": [],
   "source": []
  },
  {
   "cell_type": "code",
   "execution_count": 2,
   "id": "3f559bbd",
   "metadata": {},
   "outputs": [],
   "source": [
    "import matplotlib.pyplot as plt"
   ]
  },
  {
   "cell_type": "code",
   "execution_count": 5,
   "id": "99b87bf2",
   "metadata": {},
   "outputs": [
    {
     "data": {
      "text/html": [
       "<div>\n",
       "<style scoped>\n",
       "    .dataframe tbody tr th:only-of-type {\n",
       "        vertical-align: middle;\n",
       "    }\n",
       "\n",
       "    .dataframe tbody tr th {\n",
       "        vertical-align: top;\n",
       "    }\n",
       "\n",
       "    .dataframe thead th {\n",
       "        text-align: right;\n",
       "    }\n",
       "</style>\n",
       "<table border=\"1\" class=\"dataframe\">\n",
       "  <thead>\n",
       "    <tr style=\"text-align: right;\">\n",
       "      <th></th>\n",
       "      <th>Name</th>\n",
       "      <th>Enabled</th>\n",
       "      <th>DNSHostName</th>\n",
       "      <th>DistinguishedName</th>\n",
       "      <th>System</th>\n",
       "      <th>LastLogonDate</th>\n",
       "      <th>Laps</th>\n",
       "      <th>LapsExpirationDays</th>\n",
       "      <th>LapsExpirationTime</th>\n",
       "    </tr>\n",
       "  </thead>\n",
       "  <tbody>\n",
       "    <tr>\n",
       "      <th>0</th>\n",
       "      <td>SRASRV-DC1</td>\n",
       "      <td>True</td>\n",
       "      <td>SRASRV-DC1.sra.org.sz</td>\n",
       "      <td>CN=SRASRV-DC1,OU=Domain Controllers,DC=sra,DC=...</td>\n",
       "      <td>Windows Server 2008 R2 Enterprise</td>\n",
       "      <td>2022/10/31 02:47</td>\n",
       "      <td>False</td>\n",
       "      <td>NaN</td>\n",
       "      <td>NaN</td>\n",
       "    </tr>\n",
       "    <tr>\n",
       "      <th>1</th>\n",
       "      <td>SRASRV-DC2</td>\n",
       "      <td>True</td>\n",
       "      <td>SRASRV-DC2.sra.org.sz</td>\n",
       "      <td>CN=SRASRV-DC2,OU=Domain Controllers,DC=sra,DC=...</td>\n",
       "      <td>Windows Server 2012 R2 Standard</td>\n",
       "      <td>2022/10/26 09:50</td>\n",
       "      <td>False</td>\n",
       "      <td>NaN</td>\n",
       "      <td>NaN</td>\n",
       "    </tr>\n",
       "    <tr>\n",
       "      <th>2</th>\n",
       "      <td>SRASRV-DC01</td>\n",
       "      <td>True</td>\n",
       "      <td>SRASRV-DC01.sra.org.sz</td>\n",
       "      <td>CN=SRASRV-DC01,OU=Domain Controllers,DC=sra,DC...</td>\n",
       "      <td>Windows Server 2016 Standard</td>\n",
       "      <td>2022/10/30 06:51</td>\n",
       "      <td>False</td>\n",
       "      <td>NaN</td>\n",
       "      <td>NaN</td>\n",
       "    </tr>\n",
       "    <tr>\n",
       "      <th>3</th>\n",
       "      <td>SRASRV-DRM1</td>\n",
       "      <td>True</td>\n",
       "      <td>SRASRV-DRM1.sra.org.sz</td>\n",
       "      <td>CN=SRASRV-DRM1,OU=HQ,OU=Servers,DC=sra,DC=org,...</td>\n",
       "      <td>Windows Server 2012 R2 Standard</td>\n",
       "      <td>2022/11/03 17:28</td>\n",
       "      <td>False</td>\n",
       "      <td>NaN</td>\n",
       "      <td>NaN</td>\n",
       "    </tr>\n",
       "    <tr>\n",
       "      <th>4</th>\n",
       "      <td>SRASRV-BAK1</td>\n",
       "      <td>True</td>\n",
       "      <td>srasrv-bak1.sra.org.sz</td>\n",
       "      <td>CN=SRASRV-BAK1,OU=HQ,OU=Servers,DC=sra,DC=org,...</td>\n",
       "      <td>Windows Server 2019 Standard</td>\n",
       "      <td>2021/12/01 22:27</td>\n",
       "      <td>False</td>\n",
       "      <td>NaN</td>\n",
       "      <td>NaN</td>\n",
       "    </tr>\n",
       "  </tbody>\n",
       "</table>\n",
       "</div>"
      ],
      "text/plain": [
       "          Name  Enabled             DNSHostName  \\\n",
       "0   SRASRV-DC1     True   SRASRV-DC1.sra.org.sz   \n",
       "1   SRASRV-DC2     True   SRASRV-DC2.sra.org.sz   \n",
       "2  SRASRV-DC01     True  SRASRV-DC01.sra.org.sz   \n",
       "3  SRASRV-DRM1     True  SRASRV-DRM1.sra.org.sz   \n",
       "4  SRASRV-BAK1     True  srasrv-bak1.sra.org.sz   \n",
       "\n",
       "                                   DistinguishedName  \\\n",
       "0  CN=SRASRV-DC1,OU=Domain Controllers,DC=sra,DC=...   \n",
       "1  CN=SRASRV-DC2,OU=Domain Controllers,DC=sra,DC=...   \n",
       "2  CN=SRASRV-DC01,OU=Domain Controllers,DC=sra,DC...   \n",
       "3  CN=SRASRV-DRM1,OU=HQ,OU=Servers,DC=sra,DC=org,...   \n",
       "4  CN=SRASRV-BAK1,OU=HQ,OU=Servers,DC=sra,DC=org,...   \n",
       "\n",
       "                              System     LastLogonDate   Laps  \\\n",
       "0  Windows Server 2008 R2 Enterprise  2022/10/31 02:47  False   \n",
       "1    Windows Server 2012 R2 Standard  2022/10/26 09:50  False   \n",
       "2       Windows Server 2016 Standard  2022/10/30 06:51  False   \n",
       "3    Windows Server 2012 R2 Standard  2022/11/03 17:28  False   \n",
       "4       Windows Server 2019 Standard  2021/12/01 22:27  False   \n",
       "\n",
       "   LapsExpirationDays LapsExpirationTime  \n",
       "0                 NaN                NaN  \n",
       "1                 NaN                NaN  \n",
       "2                 NaN                NaN  \n",
       "3                 NaN                NaN  \n",
       "4                 NaN                NaN  "
      ]
     },
     "execution_count": 5,
     "metadata": {},
     "output_type": "execute_result"
    }
   ],
   "source": [
    "## Read data into dataframe\n",
    "df = pd.read_csv('C://Users//vkhumalo//Downloads//Laps.csv')\n",
    "df.head()"
   ]
  },
  {
   "cell_type": "code",
   "execution_count": 8,
   "id": "a7929be0",
   "metadata": {},
   "outputs": [
    {
     "data": {
      "text/plain": [
       "531"
      ]
     },
     "execution_count": 8,
     "metadata": {},
     "output_type": "execute_result"
    }
   ],
   "source": [
    "# Count devices where Laps is installed\n",
    "count_true = df[df['Laps'] == True].count()['Laps']\n",
    "count_true"
   ]
  },
  {
   "cell_type": "code",
   "execution_count": 9,
   "id": "ba136bc1",
   "metadata": {},
   "outputs": [
    {
     "data": {
      "text/plain": [
       "211"
      ]
     },
     "execution_count": 9,
     "metadata": {},
     "output_type": "execute_result"
    }
   ],
   "source": [
    "# Count devices where Laps is not installed\n",
    "count_false = df[df['Laps'] == False].count()['Laps']\n",
    "count_false"
   ]
  },
  {
   "cell_type": "code",
   "execution_count": 10,
   "id": "0e2d05ca",
   "metadata": {},
   "outputs": [],
   "source": [
    "# Count total number of devices\n",
    "total = count_true+ count_false"
   ]
  },
  {
   "cell_type": "code",
   "execution_count": 11,
   "id": "8ca18cf9",
   "metadata": {},
   "outputs": [
    {
     "name": "stdout",
     "output_type": "stream",
     "text": [
      "<class 'pandas.core.frame.DataFrame'>\n",
      "RangeIndex: 742 entries, 0 to 741\n",
      "Data columns (total 9 columns):\n",
      " #   Column              Non-Null Count  Dtype  \n",
      "---  ------              --------------  -----  \n",
      " 0   Name                742 non-null    object \n",
      " 1   Enabled             742 non-null    bool   \n",
      " 2   DNSHostName         739 non-null    object \n",
      " 3   DistinguishedName   742 non-null    object \n",
      " 4   System              742 non-null    object \n",
      " 5   LastLogonDate       739 non-null    object \n",
      " 6   Laps                742 non-null    bool   \n",
      " 7   LapsExpirationDays  531 non-null    float64\n",
      " 8   LapsExpirationTime  531 non-null    object \n",
      "dtypes: bool(2), float64(1), object(6)\n",
      "memory usage: 42.2+ KB\n"
     ]
    }
   ],
   "source": [
    "\n",
    "df.info()"
   ]
  },
  {
   "cell_type": "code",
   "execution_count": 12,
   "id": "0bdaa227",
   "metadata": {},
   "outputs": [
    {
     "data": {
      "image/png": "[encoded data removed]",
      "text/plain": [
       "<Figure size 720x864 with 1 Axes>"
      ]
     },
     "metadata": {},
     "output_type": "display_data"
    }
   ],
   "source": [
    "# Plot Pie Chart\n",
    "y = np.array([count_true, count_false])\n",
    "mylabels = [\"Laps Installed\", \"Laps Not Installed\"]\n",
    "plt.figure(figsize=(10,12))\n",
    "#plt.set_figheight(10)\n",
    "plt.pie(y, labels = mylabels,autopct='%1.2f%%')\n",
    "plt.savefig(\"figure09.png\")\n",
    "plt.show() "
   ]
  },
  {
   "cell_type": "code",
   "execution_count": 27,
   "id": "1a6b76fe",
   "metadata": {},
   "outputs": [
    {
     "data": {
      "text/plain": [
       "<Figure size 432x288 with 0 Axes>"
      ]
     },
     "metadata": {},
     "output_type": "display_data"
    }
   ],
   "source": []
  },
  {
   "cell_type": "code",
   "execution_count": null,
   "id": "5519b10f",
   "metadata": {},
   "outputs": [],
   "source": []
  }
 ],
 "metadata": {
  "kernelspec": {
   "display_name": "Python 3 (ipykernel)",
   "language": "python",
   "name": "python3"
  },
  "language_info": {
   "codemirror_mode": {
    "name": "ipython",
    "version": 3
   },
   "file_extension": ".py",
   "mimetype": "text/x-python",
   "name": "python",
   "nbconvert_exporter": "python",
   "pygments_lexer": "ipython3",
   "version": "3.9.12"
  }
 },
 "nbformat": 4,
 "nbformat_minor": 5
}
